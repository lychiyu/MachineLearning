{
 "cells": [
  {
   "cell_type": "markdown",
   "metadata": {},
   "source": [
    "# 多元线性回归"
   ]
  },
  {
   "cell_type": "code",
   "execution_count": 1,
   "metadata": {},
   "outputs": [],
   "source": [
    "import numpy as np\n",
    "import matplotlib.pyplot as plt \n",
    "from sklearn import datasets"
   ]
  },
  {
   "cell_type": "code",
   "execution_count": 2,
   "metadata": {},
   "outputs": [],
   "source": [
    "boston = datasets.load_boston()\n",
    "X = boston.data\n",
    "y = boston.target"
   ]
  },
  {
   "cell_type": "code",
   "execution_count": 3,
   "metadata": {},
   "outputs": [],
   "source": [
    "X = X[y<50.0]\n",
    "y = y[y<50.0]"
   ]
  },
  {
   "cell_type": "code",
   "execution_count": 4,
   "metadata": {},
   "outputs": [],
   "source": [
    "from sklearn.model_selection import train_test_split\n",
    "X_train, X_test, y_train, y_test = train_test_split(X, y)"
   ]
  },
  {
   "cell_type": "code",
   "execution_count": 5,
   "metadata": {},
   "outputs": [
    {
     "data": {
      "text/plain": [
       "((367, 13), (123, 13), (367,), (123,))"
      ]
     },
     "execution_count": 5,
     "metadata": {},
     "output_type": "execute_result"
    }
   ],
   "source": [
    "X_train.shape, X_test.shape, y_train.shape, y_test.shape"
   ]
  },
  {
   "cell_type": "code",
   "execution_count": 11,
   "metadata": {},
   "outputs": [],
   "source": [
    "%run LinearRegression.py"
   ]
  },
  {
   "cell_type": "code",
   "execution_count": 12,
   "metadata": {},
   "outputs": [],
   "source": [
    "reg = LinearRegression()"
   ]
  },
  {
   "cell_type": "code",
   "execution_count": 13,
   "metadata": {},
   "outputs": [
    {
     "data": {
      "text/plain": [
       "LinerRegression()"
      ]
     },
     "execution_count": 13,
     "metadata": {},
     "output_type": "execute_result"
    }
   ],
   "source": [
    "reg.fit_normal(X_train, y_train)"
   ]
  },
  {
   "cell_type": "code",
   "execution_count": 14,
   "metadata": {},
   "outputs": [
    {
     "data": {
      "text/plain": [
       "array([26.7654884 , 20.19343614, 23.63359206, 24.61241992, 31.80257007,\n",
       "        8.92640353, 34.19787566, 17.52702307,  1.67474889, 31.77494608,\n",
       "       31.90855687, 18.17152788, 15.03547957, 23.46269059, 26.49854463,\n",
       "       16.86748907, 17.13590454, 21.92603819, 20.90691165, 31.6993858 ,\n",
       "       25.14581177, 23.50611035, 19.49004257, 32.45024772, 20.42181096,\n",
       "       35.27982977, 27.68574263, 27.24594591, 26.58298566, 19.95751324,\n",
       "       19.144691  , 25.38517851, 25.19377119, 19.50636539, 10.3228209 ,\n",
       "       13.52526415, 13.04460314, 23.44312352, 11.03972232, 39.73279855,\n",
       "       18.00869671, 15.14198801, 22.59084822,  9.17947828, 17.71603553,\n",
       "       13.44482929, 10.21641202, 33.67684727, 15.77720231, 11.5949363 ,\n",
       "       10.572142  , 20.52299677, 23.56655807, 20.38836692, 29.9383879 ,\n",
       "       21.02390707, 24.70834982, 12.19870133, 33.6174047 , 24.23582006,\n",
       "       19.07777218,  5.25467021, 25.28136959, 25.37824206, 33.96319881,\n",
       "       21.12372285, 16.71737823, 24.15618256, 12.51662784, 21.42590197,\n",
       "       11.44474554, 16.91539756, 24.3255541 ,  6.86014863, 34.48565379,\n",
       "       23.99852423, 20.83071655, 22.28324419, 28.03922556, 13.80203075,\n",
       "       17.9776574 , 21.92534094, 23.49238157, 21.33353371, 15.25954762,\n",
       "       23.34177185, 21.11893605, 28.43364366, 13.41225195, 28.02208023,\n",
       "       34.08793318, 25.27024322, 18.89653455, 20.52762456, 27.31315867,\n",
       "       32.82824421,  3.54580545, 24.65975514, 14.78043855, 22.84134591,\n",
       "       27.44520979, 11.41412449, -3.93959069, 27.25207907, 30.81787478,\n",
       "       24.40689429, 23.57834647, 21.22391412, 27.29018402, 35.62890202,\n",
       "       14.76046334, 25.02551175,  6.3257896 , 20.83882228,  7.12581995,\n",
       "       19.94371781, 19.05414458, 19.06043036, 22.96456141, 17.34410886,\n",
       "       19.19676382, 22.83812215, 24.4445159 ])"
      ]
     },
     "execution_count": 14,
     "metadata": {},
     "output_type": "execute_result"
    }
   ],
   "source": [
    "y_predict = reg.predict(X_test)\n",
    "y_predict"
   ]
  },
  {
   "cell_type": "code",
   "execution_count": null,
   "metadata": {},
   "outputs": [],
   "source": [
    "reg."
   ]
  }
 ],
 "metadata": {
  "kernelspec": {
   "display_name": "Python 3",
   "language": "python",
   "name": "python3"
  },
  "language_info": {
   "codemirror_mode": {
    "name": "ipython",
    "version": 3
   },
   "file_extension": ".py",
   "mimetype": "text/x-python",
   "name": "python",
   "nbconvert_exporter": "python",
   "pygments_lexer": "ipython3",
   "version": "3.6.4"
  }
 },
 "nbformat": 4,
 "nbformat_minor": 2
}
