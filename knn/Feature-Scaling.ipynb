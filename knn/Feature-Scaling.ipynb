{
 "cells": [
  {
   "cell_type": "markdown",
   "metadata": {},
   "source": [
    "# 数据归一化处理"
   ]
  },
  {
   "cell_type": "code",
   "execution_count": 2,
   "metadata": {},
   "outputs": [],
   "source": [
    "import numpy as np\n",
    "import matplotlib\n",
    "import matplotlib.pyplot as plt\n",
    "from sklearn import datasets"
   ]
  },
  {
   "cell_type": "markdown",
   "metadata": {},
   "source": [
    "## 数值归一化 Normalization"
   ]
  },
  {
   "cell_type": "code",
   "execution_count": 3,
   "metadata": {},
   "outputs": [],
   "source": [
    "x = np.random.randint(0,100,size=100)"
   ]
  },
  {
   "cell_type": "code",
   "execution_count": 4,
   "metadata": {},
   "outputs": [
    {
     "data": {
      "text/plain": [
       "array([75, 77, 94, 69, 46, 46, 17, 89, 58, 69, 48, 42, 50, 43, 38, 90, 40,\n",
       "       29, 37, 83, 17, 64, 30, 26, 32, 50, 25,  7, 96, 51, 89, 70, 22, 95,\n",
       "       54, 91, 29, 92,  0, 73, 14, 60, 74, 35, 51, 59, 56, 48, 49, 75, 98,\n",
       "       35, 26,  6, 78, 53, 62, 64, 20, 44, 47, 36, 58, 83, 64, 55,  3, 14,\n",
       "       41,  9, 97, 91, 27, 59, 65, 76, 96, 12, 15, 20, 21, 28, 40,  6, 77,\n",
       "       12, 82, 65, 93, 11, 70, 82, 44, 38, 53, 29,  1, 69, 81, 33])"
      ]
     },
     "execution_count": 4,
     "metadata": {},
     "output_type": "execute_result"
    }
   ],
   "source": [
    "x"
   ]
  },
  {
   "cell_type": "code",
   "execution_count": 5,
   "metadata": {},
   "outputs": [
    {
     "data": {
      "text/plain": [
       "array([0.76530612, 0.78571429, 0.95918367, 0.70408163, 0.46938776,\n",
       "       0.46938776, 0.17346939, 0.90816327, 0.59183673, 0.70408163,\n",
       "       0.48979592, 0.42857143, 0.51020408, 0.43877551, 0.3877551 ,\n",
       "       0.91836735, 0.40816327, 0.29591837, 0.37755102, 0.84693878,\n",
       "       0.17346939, 0.65306122, 0.30612245, 0.26530612, 0.32653061,\n",
       "       0.51020408, 0.25510204, 0.07142857, 0.97959184, 0.52040816,\n",
       "       0.90816327, 0.71428571, 0.2244898 , 0.96938776, 0.55102041,\n",
       "       0.92857143, 0.29591837, 0.93877551, 0.        , 0.74489796,\n",
       "       0.14285714, 0.6122449 , 0.75510204, 0.35714286, 0.52040816,\n",
       "       0.60204082, 0.57142857, 0.48979592, 0.5       , 0.76530612,\n",
       "       1.        , 0.35714286, 0.26530612, 0.06122449, 0.79591837,\n",
       "       0.54081633, 0.63265306, 0.65306122, 0.20408163, 0.44897959,\n",
       "       0.47959184, 0.36734694, 0.59183673, 0.84693878, 0.65306122,\n",
       "       0.56122449, 0.03061224, 0.14285714, 0.41836735, 0.09183673,\n",
       "       0.98979592, 0.92857143, 0.2755102 , 0.60204082, 0.66326531,\n",
       "       0.7755102 , 0.97959184, 0.12244898, 0.15306122, 0.20408163,\n",
       "       0.21428571, 0.28571429, 0.40816327, 0.06122449, 0.78571429,\n",
       "       0.12244898, 0.83673469, 0.66326531, 0.94897959, 0.1122449 ,\n",
       "       0.71428571, 0.83673469, 0.44897959, 0.3877551 , 0.54081633,\n",
       "       0.29591837, 0.01020408, 0.70408163, 0.82653061, 0.33673469])"
      ]
     },
     "execution_count": 5,
     "metadata": {},
     "output_type": "execute_result"
    }
   ],
   "source": [
    "(x - np.min(x))/(np.max(x) - np.min(x))"
   ]
  },
  {
   "cell_type": "code",
   "execution_count": 6,
   "metadata": {},
   "outputs": [],
   "source": [
    "X = np.random.randint(0,100, (50,2))"
   ]
  },
  {
   "cell_type": "code",
   "execution_count": 8,
   "metadata": {
    "scrolled": true
   },
   "outputs": [
    {
     "data": {
      "text/plain": [
       "array([[10,  5],\n",
       "       [60,  8],\n",
       "       [26, 36],\n",
       "       [33, 33],\n",
       "       [16, 82],\n",
       "       [50, 24],\n",
       "       [ 6, 53],\n",
       "       [62, 17],\n",
       "       [57, 68],\n",
       "       [32, 61],\n",
       "       [ 6, 21],\n",
       "       [ 3, 96],\n",
       "       [41, 64],\n",
       "       [88, 76],\n",
       "       [24, 31],\n",
       "       [87, 15],\n",
       "       [18, 99],\n",
       "       [46, 43],\n",
       "       [13, 29],\n",
       "       [88, 30],\n",
       "       [76, 52],\n",
       "       [30, 19],\n",
       "       [66, 20],\n",
       "       [61, 19],\n",
       "       [36, 41],\n",
       "       [32, 53],\n",
       "       [12, 35],\n",
       "       [17, 36],\n",
       "       [25, 99],\n",
       "       [35, 79],\n",
       "       [90, 46],\n",
       "       [67, 68],\n",
       "       [92, 62],\n",
       "       [32, 42],\n",
       "       [74, 48],\n",
       "       [39, 87],\n",
       "       [54, 67],\n",
       "       [87, 91],\n",
       "       [14, 29],\n",
       "       [93, 24],\n",
       "       [35,  2],\n",
       "       [83, 40],\n",
       "       [ 5, 72],\n",
       "       [10, 48],\n",
       "       [26, 21],\n",
       "       [85, 92],\n",
       "       [65, 29],\n",
       "       [62, 21],\n",
       "       [98, 50],\n",
       "       [33, 51]])"
      ]
     },
     "execution_count": 8,
     "metadata": {},
     "output_type": "execute_result"
    }
   ],
   "source": [
    "X"
   ]
  },
  {
   "cell_type": "code",
   "execution_count": 12,
   "metadata": {},
   "outputs": [],
   "source": [
    "X = np.array(X, dtype=float)"
   ]
  },
  {
   "cell_type": "code",
   "execution_count": 21,
   "metadata": {},
   "outputs": [],
   "source": [
    "X[:, 0] = (X[:,0] - np.min(X[:, 0]))/(np.max(X[:, 0]) - np.min(X[:, 0]))\n",
    "X[:, 1] = (X[:,1] - np.min(X[:, 1]))/(np.max(X[:, 1]) - np.min(X[:, 1]))"
   ]
  },
  {
   "cell_type": "code",
   "execution_count": 20,
   "metadata": {},
   "outputs": [
    {
     "data": {
      "image/png": "[encoded data removed]",
      "text/plain": [
       "<Figure size 432x288 with 1 Axes>"
      ]
     },
     "metadata": {
      "needs_background": "light"
     },
     "output_type": "display_data"
    }
   ],
   "source": [
    "plt.scatter(X[:, 0], X[:, 1])\n",
    "plt.show()"
   ]
  },
  {
   "cell_type": "markdown",
   "metadata": {},
   "source": [
    "## 均值方差归一化 Standardization"
   ]
  },
  {
   "cell_type": "code",
   "execution_count": 15,
   "metadata": {},
   "outputs": [],
   "source": [
    "X2 = np.random.randint(0,100, (50,2))\n",
    "X2 = np.array(X2, dtype=float)"
   ]
  },
  {
   "cell_type": "code",
   "execution_count": 16,
   "metadata": {},
   "outputs": [],
   "source": [
    "X2[:,0] = (X2[:, 0] - np.mean(X2[:, 0])) / np.std(X2[:, 0])"
   ]
  },
  {
   "cell_type": "code",
   "execution_count": 17,
   "metadata": {},
   "outputs": [],
   "source": [
    "X2[:,1] = (X2[:, 1] - np.mean(X2[:, 1])) / np.std(X2[:, 1])"
   ]
  },
  {
   "cell_type": "code",
   "execution_count": 18,
   "metadata": {},
   "outputs": [
    {
     "data": {
      "image/png": "[encoded data removed]",
      "text/plain": [
       "<Figure size 432x288 with 1 Axes>"
      ]
     },
     "metadata": {
      "needs_background": "light"
     },
     "output_type": "display_data"
    }
   ],
   "source": [
    "plt.scatter(X2[:, 0], X2[:, 1])\n",
    "plt.show()"
   ]
  },
  {
   "cell_type": "code",
   "execution_count": null,
   "metadata": {},
   "outputs": [],
   "source": []
  }
 ],
 "metadata": {
  "kernelspec": {
   "display_name": "Python 3",
   "language": "python",
   "name": "python3"
  },
  "language_info": {
   "codemirror_mode": {
    "name": "ipython",
    "version": 3
   },
   "file_extension": ".py",
   "mimetype": "text/x-python",
   "name": "python",
   "nbconvert_exporter": "python",
   "pygments_lexer": "ipython3",
   "version": "3.6.4"
  }
 },
 "nbformat": 4,
 "nbformat_minor": 2
}
