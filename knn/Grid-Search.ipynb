{
 "cells": [
  {
   "cell_type": "code",
   "execution_count": 1,
   "metadata": {},
   "outputs": [],
   "source": [
    "import numpy as np\n",
    "import matplotlib\n",
    "import matplotlib.pyplot as plt\n",
    "from sklearn import datasets\n",
    "from sklearn.model_selection import train_test_split\n",
    "\n",
    "digits = datasets.load_digits()\n",
    "\n",
    "X = digits.data\n",
    "y = digits.target\n",
    "X_train, X_test, y_train, y_test = train_test_split(X, y)"
   ]
  },
  {
   "cell_type": "markdown",
   "metadata": {},
   "source": [
    "## Grid Search"
   ]
  },
  {
   "cell_type": "code",
   "execution_count": 2,
   "metadata": {},
   "outputs": [],
   "source": [
    "param_grid = [\n",
    "    {\n",
    "        'weights': ['uniform'],\n",
    "        'n_neighbors': [i for i in range(1, 11)]\n",
    "    },\n",
    "    {\n",
    "        'weights': ['distance'],\n",
    "        'n_neighbors': [i for i in range(1, 11)],\n",
    "        'p': [i for i in range(1, 6)]\n",
    "    },\n",
    "]"
   ]
  },
  {
   "cell_type": "code",
   "execution_count": 3,
   "metadata": {},
   "outputs": [],
   "source": [
    "from sklearn.neighbors import KNeighborsClassifier\n",
    "knn_clf = KNeighborsClassifier()"
   ]
  },
  {
   "cell_type": "code",
   "execution_count": 5,
   "metadata": {},
   "outputs": [],
   "source": [
    "# 引入sklearn中的网格搜索\n",
    "from sklearn.model_selection import GridSearchCV\n",
    "grid_search = GridSearchCV(knn_clf, param_grid)"
   ]
  },
  {
   "cell_type": "code",
   "execution_count": 6,
   "metadata": {},
   "outputs": [
    {
     "name": "stderr",
     "output_type": "stream",
     "text": [
      "/Users/liuying/PycharmProjects/ai/venv/lib/python3.6/site-packages/sklearn/model_selection/_split.py:1943: FutureWarning: You should specify a value for 'cv' instead of relying on the default value. The default value will change from 3 to 5 in version 0.22.\n",
      "  warnings.warn(CV_WARNING, FutureWarning)\n"
     ]
    },
    {
     "name": "stdout",
     "output_type": "stream",
     "text": [
      "CPU times: user 1min 50s, sys: 752 ms, total: 1min 50s\n",
      "Wall time: 1min 53s\n"
     ]
    },
    {
     "data": {
      "text/plain": [
       "GridSearchCV(cv='warn', error_score='raise-deprecating',\n",
       "       estimator=KNeighborsClassifier(algorithm='auto', leaf_size=30, metric='minkowski',\n",
       "           metric_params=None, n_jobs=None, n_neighbors=5, p=2,\n",
       "           weights='uniform'),\n",
       "       fit_params=None, iid='warn', n_jobs=None,\n",
       "       param_grid=[{'weights': ['uniform'], 'n_neighbors': [1, 2, 3, 4, 5, 6, 7, 8, 9, 10]}, {'weights': ['distance'], 'n_neighbors': [1, 2, 3, 4, 5, 6, 7, 8, 9, 10], 'p': [1, 2, 3, 4, 5]}],\n",
       "       pre_dispatch='2*n_jobs', refit=True, return_train_score='warn',\n",
       "       scoring=None, verbose=0)"
      ]
     },
     "execution_count": 6,
     "metadata": {},
     "output_type": "execute_result"
    }
   ],
   "source": [
    "%%time\n",
    "grid_search.fit(X_train,y_train)"
   ]
  },
  {
   "cell_type": "code",
   "execution_count": 7,
   "metadata": {},
   "outputs": [
    {
     "data": {
      "text/plain": [
       "KNeighborsClassifier(algorithm='auto', leaf_size=30, metric='minkowski',\n",
       "           metric_params=None, n_jobs=None, n_neighbors=1, p=3,\n",
       "           weights='distance')"
      ]
     },
     "execution_count": 7,
     "metadata": {},
     "output_type": "execute_result"
    }
   ],
   "source": [
    "grid_search.best_estimator_"
   ]
  },
  {
   "cell_type": "code",
   "execution_count": 8,
   "metadata": {},
   "outputs": [
    {
     "data": {
      "text/plain": [
       "0.9851521900519673"
      ]
     },
     "execution_count": 8,
     "metadata": {},
     "output_type": "execute_result"
    }
   ],
   "source": [
    "grid_search.best_score_"
   ]
  },
  {
   "cell_type": "code",
   "execution_count": 9,
   "metadata": {},
   "outputs": [
    {
     "data": {
      "text/plain": [
       "{'n_neighbors': 1, 'p': 3, 'weights': 'distance'}"
      ]
     },
     "execution_count": 9,
     "metadata": {},
     "output_type": "execute_result"
    }
   ],
   "source": [
    "grid_search.best_params_"
   ]
  },
  {
   "cell_type": "code",
   "execution_count": 10,
   "metadata": {},
   "outputs": [],
   "source": [
    "knn_clf = grid_search.best_estimator_"
   ]
  },
  {
   "cell_type": "code",
   "execution_count": 11,
   "metadata": {},
   "outputs": [
    {
     "data": {
      "text/plain": [
       "array([2, 1, 0, 7, 1, 6, 6, 5, 5, 5, 0, 3, 1, 3, 7, 6, 1, 5, 5, 7, 6, 0,\n",
       "       5, 3, 1, 1, 6, 8, 0, 0, 9, 4, 2, 8, 7, 5, 7, 6, 9, 8, 2, 3, 7, 1,\n",
       "       2, 1, 3, 9, 5, 5, 8, 6, 8, 1, 6, 7, 3, 5, 2, 5, 1, 5, 5, 5, 2, 7,\n",
       "       0, 5, 0, 7, 6, 9, 2, 3, 0, 5, 4, 2, 4, 7, 2, 7, 2, 4, 7, 6, 2, 2,\n",
       "       4, 1, 6, 1, 6, 0, 4, 3, 9, 3, 9, 6, 5, 9, 2, 9, 9, 3, 7, 2, 6, 4,\n",
       "       2, 3, 4, 1, 8, 1, 4, 5, 1, 4, 7, 5, 7, 7, 4, 9, 4, 6, 1, 7, 1, 7,\n",
       "       3, 0, 2, 7, 2, 6, 7, 5, 5, 4, 1, 4, 2, 6, 1, 3, 6, 9, 6, 5, 9, 0,\n",
       "       8, 4, 7, 7, 1, 4, 4, 1, 8, 9, 0, 0, 5, 0, 9, 0, 0, 3, 7, 5, 7, 1,\n",
       "       7, 8, 4, 3, 4, 9, 9, 8, 7, 1, 6, 3, 0, 8, 8, 1, 1, 5, 7, 2, 7, 6,\n",
       "       5, 4, 5, 6, 6, 3, 7, 0, 5, 7, 5, 6, 4, 9, 9, 4, 5, 0, 8, 8, 5, 7,\n",
       "       7, 7, 0, 3, 3, 9, 8, 7, 9, 7, 4, 7, 2, 4, 5, 4, 3, 0, 3, 2, 3, 8,\n",
       "       1, 7, 0, 7, 2, 9, 1, 3, 1, 5, 0, 0, 5, 9, 3, 1, 0, 1, 1, 9, 7, 3,\n",
       "       5, 5, 2, 7, 5, 6, 2, 4, 6, 6, 7, 7, 9, 3, 1, 2, 7, 7, 2, 4, 5, 7,\n",
       "       0, 0, 0, 7, 0, 8, 9, 0, 4, 1, 8, 4, 1, 9, 4, 6, 4, 3, 9, 3, 2, 3,\n",
       "       2, 6, 8, 5, 8, 2, 7, 4, 8, 0, 9, 6, 4, 0, 5, 0, 1, 8, 6, 7, 2, 1,\n",
       "       4, 2, 9, 5, 9, 1, 5, 0, 5, 7, 7, 8, 9, 4, 4, 8, 2, 2, 3, 1, 8, 6,\n",
       "       1, 6, 6, 6, 4, 4, 1, 6, 5, 2, 2, 2, 7, 4, 9, 2, 6, 9, 5, 2, 9, 3,\n",
       "       3, 6, 1, 4, 9, 1, 5, 6, 5, 1, 3, 7, 8, 1, 8, 2, 8, 2, 5, 2, 7, 9,\n",
       "       4, 6, 3, 9, 9, 2, 1, 5, 3, 1, 1, 1, 0, 5, 4, 4, 3, 6, 6, 1, 5, 3,\n",
       "       7, 9, 0, 1, 8, 6, 4, 4, 9, 9, 0, 6, 0, 3, 3, 9, 9, 1, 8, 6, 6, 6,\n",
       "       2, 8, 0, 6, 1, 3, 6, 7, 6, 7])"
      ]
     },
     "execution_count": 11,
     "metadata": {},
     "output_type": "execute_result"
    }
   ],
   "source": [
    "knn_clf.predict(X_test)"
   ]
  },
  {
   "cell_type": "code",
   "execution_count": 12,
   "metadata": {},
   "outputs": [
    {
     "data": {
      "text/plain": [
       "0.9933333333333333"
      ]
     },
     "execution_count": 12,
     "metadata": {},
     "output_type": "execute_result"
    }
   ],
   "source": [
    "knn_clf.score(X_test, y_test)"
   ]
  },
  {
   "cell_type": "code",
   "execution_count": null,
   "metadata": {},
   "outputs": [],
   "source": []
  }
 ],
 "metadata": {
  "kernelspec": {
   "display_name": "Python 3",
   "language": "python",
   "name": "python3"
  },
  "language_info": {
   "codemirror_mode": {
    "name": "ipython",
    "version": 3
   },
   "file_extension": ".py",
   "mimetype": "text/x-python",
   "name": "python",
   "nbconvert_exporter": "python",
   "pygments_lexer": "ipython3",
   "version": "3.6.4"
  }
 },
 "nbformat": 4,
 "nbformat_minor": 2
}
